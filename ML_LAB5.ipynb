{
  "nbformat": 4,
  "nbformat_minor": 0,
  "metadata": {
    "colab": {
      "provenance": []
    },
    "kernelspec": {
      "name": "python3",
      "display_name": "Python 3"
    },
    "language_info": {
      "name": "python"
    }
  },
  "cells": [
    {
      "cell_type": "code",
      "execution_count": null,
      "metadata": {
        "id": "br5T3Rr0OsR4"
      },
      "outputs": [],
      "source": [
        "import pandas as pd\n",
        "import os\n",
        "import matplotlib.pyplot as plt\n",
        "import seaborn as sns\n",
        "from sklearn.preprocessing import MinMaxScaler\n",
        "from sklearn.preprocessing import StandardScaler\n",
        "from sklearn.neighbors import KNeighborsClassifier\n",
        "from sklearn.metrics import classification_report, confusion_matrix\n",
        "from sklearn.model_selection import train_test_split\n",
        "from sklearn import metrics\n",
        "from sklearn.metrics import accuracy_score\n",
        "import scipy.cluster.hierarchy as shc \n",
        "import numpy as nm  \n",
        "import matplotlib.pyplot as mtp  \n",
        "import pandas as pd  "
      ]
    },
    {
      "cell_type": "code",
      "source": [
        "df = pd.read_csv(\"/content/drive/MyDrive/wine.csv\")\n",
        "df.columns"
      ],
      "metadata": {
        "id": "RdCynNvsOwio"
      },
      "execution_count": null,
      "outputs": []
    },
    {
      "cell_type": "code",
      "source": [
        "df.head"
      ],
      "metadata": {
        "id": "FQGP8d3mPiIQ"
      },
      "execution_count": null,
      "outputs": []
    },
    {
      "cell_type": "markdown",
      "source": [
        "### **DATA PROCESSING**"
      ],
      "metadata": {
        "id": "WL1y691pPxfx"
      }
    },
    {
      "cell_type": "markdown",
      "source": [
        "CONVERTING CATEGORICAL DATA INTO NUMERICAL DATA"
      ],
      "metadata": {
        "id": "D6OLwZI6P2fc"
      }
    },
    {
      "cell_type": "code",
      "source": [
        "df['quality'].replace(['good', 'bad'],[0, 1], inplace=True)"
      ],
      "metadata": {
        "id": "hx5B7c0qPlKE"
      },
      "execution_count": null,
      "outputs": []
    },
    {
      "cell_type": "code",
      "source": [
        "df.dropna()"
      ],
      "metadata": {
        "id": "p_12bu6aP1ZW"
      },
      "execution_count": null,
      "outputs": []
    },
    {
      "cell_type": "code",
      "source": [
        "df.drop(\"fixed acidity\", axis=1, inplace=True)\n",
        "df.drop(\"volatile acidity\", axis=1, inplace=True)\n",
        "df.drop(\"free sulfur dioxide\", axis=1, inplace=True)\n",
        "df.drop(\"total sulfur dioxide\", axis=1, inplace=True)\n",
        "df.head()"
      ],
      "metadata": {
        "id": "3kpkY059QG8G"
      },
      "execution_count": null,
      "outputs": []
    },
    {
      "cell_type": "markdown",
      "source": [
        "## **NORMALISING THE DATASET**"
      ],
      "metadata": {
        "id": "BS1pWTJQT-hv"
      }
    },
    {
      "cell_type": "code",
      "source": [
        "X_copy = df.copy() \n",
        "scaler = StandardScaler()\n",
        "X_columns = df.columns\n",
        "normalised = pd.DataFrame(scaler.fit_transform(X_copy), columns=X_columns)\n",
        "normalised.head()"
      ],
      "metadata": {
        "id": "BOAhKS6yT5FR"
      },
      "execution_count": null,
      "outputs": []
    },
    {
      "cell_type": "markdown",
      "source": [
        "# **HIERACRCHICAL CLUSTERING**"
      ],
      "metadata": {
        "id": "-lzVUQv7UZsP"
      }
    },
    {
      "cell_type": "code",
      "source": [
        "x = df.iloc[:, [-2, 2]].values  "
      ],
      "metadata": {
        "id": "BJfVGmwlUeMl"
      },
      "execution_count": null,
      "outputs": []
    },
    {
      "cell_type": "code",
      "source": [
        "dendro = shc.dendrogram(shc.linkage(x, method=\"ward\"))  \n",
        "mtp.title(\"Dendrogrma Plot\")  \n",
        "mtp.ylabel(\"Euclidean Distances\")  \n",
        "\n",
        "mtp.show()  "
      ],
      "metadata": {
        "colab": {
          "base_uri": "https://localhost:8080/",
          "height": 487
        },
        "id": "y22ROnolU6h-",
        "outputId": "fe577381-0bf8-4f6b-8401-d2d051ec04b2"
      },
      "execution_count": null,
      "outputs": [
        {
          "ename": "AttributeError",
          "evalue": "ignored",
          "output_type": "error",
          "traceback": [
            "\u001b[0;31m---------------------------------------------------------------------------\u001b[0m",
            "\u001b[0;31mAttributeError\u001b[0m                            Traceback (most recent call last)",
            "\u001b[0;32m<ipython-input-15-df4870ce3b46>\u001b[0m in \u001b[0;36m<module>\u001b[0;34m\u001b[0m\n\u001b[1;32m      1\u001b[0m \u001b[0mdendro\u001b[0m \u001b[0;34m=\u001b[0m \u001b[0mshc\u001b[0m\u001b[0;34m.\u001b[0m\u001b[0mdendrogram\u001b[0m\u001b[0;34m(\u001b[0m\u001b[0mshc\u001b[0m\u001b[0;34m.\u001b[0m\u001b[0mlinkage\u001b[0m\u001b[0;34m(\u001b[0m\u001b[0mx\u001b[0m\u001b[0;34m,\u001b[0m \u001b[0mmethod\u001b[0m\u001b[0;34m=\u001b[0m\u001b[0;34m\"ward\"\u001b[0m\u001b[0;34m)\u001b[0m\u001b[0;34m)\u001b[0m\u001b[0;34m\u001b[0m\u001b[0;34m\u001b[0m\u001b[0m\n\u001b[0;32m----> 2\u001b[0;31m \u001b[0mmtp\u001b[0m\u001b[0;34m.\u001b[0m\u001b[0mtitle\u001b[0m\u001b[0;34m(\u001b[0m\u001b[0;34m\"Dendrogrma Plot\"\u001b[0m\u001b[0;34m)\u001b[0m\u001b[0;34m\u001b[0m\u001b[0;34m\u001b[0m\u001b[0m\n\u001b[0m\u001b[1;32m      3\u001b[0m \u001b[0mmtp\u001b[0m\u001b[0;34m.\u001b[0m\u001b[0mylabel\u001b[0m\u001b[0;34m(\u001b[0m\u001b[0;34m\"Euclidean Distances\"\u001b[0m\u001b[0;34m)\u001b[0m\u001b[0;34m\u001b[0m\u001b[0;34m\u001b[0m\u001b[0m\n\u001b[1;32m      4\u001b[0m \u001b[0;34m\u001b[0m\u001b[0m\n\u001b[1;32m      5\u001b[0m \u001b[0mmtp\u001b[0m\u001b[0;34m.\u001b[0m\u001b[0mshow\u001b[0m\u001b[0;34m(\u001b[0m\u001b[0;34m)\u001b[0m\u001b[0;34m\u001b[0m\u001b[0;34m\u001b[0m\u001b[0m\n",
            "\u001b[0;31mAttributeError\u001b[0m: 'Figure' object has no attribute 'title'"
          ]
        },
        {
          "output_type": "display_data",
          "data": {
            "text/plain": [
              "<Figure size 432x288 with 1 Axes>"
            ],
            "image/png": "[encoded data removed]"
          },
          "metadata": {
            "needs_background": "light"
          }
        }
      ]
    },
    {
      "cell_type": "markdown",
      "source": [
        "# **Training the hierarchical model on the dataset**"
      ],
      "metadata": {
        "id": "jvyZsMJuWzLu"
      }
    },
    {
      "cell_type": "code",
      "source": [
        "from sklearn.cluster import AgglomerativeClustering  "
      ],
      "metadata": {
        "id": "RmiW5UqCWsdk"
      },
      "execution_count": null,
      "outputs": []
    },
    {
      "cell_type": "code",
      "source": [
        "#visulaizing the clusters \n",
        "def clusters(col1, col2):\n",
        "  x = df.iloc[:, [col1, col2]].values  \n",
        "  hc= AgglomerativeClustering(n_clusters=5, affinity='euclidean', linkage='ward')  \n",
        "  y_pred= hc.fit_predict(x)  \n",
        "  #y_pred\n",
        "  mtp.scatter(x[y_pred == 0, 0], x[y_pred == 0, 1], s = 100, c = 'blue', label = 'Cluster 1')  \n",
        "  mtp.scatter(x[y_pred == 1, 0], x[y_pred == 1, 1], s = 100, c = 'green', label = 'Cluster 2')  \n",
        "  mtp.scatter(x[y_pred== 2, 0], x[y_pred == 2, 1], s = 100, c = 'red', label = 'Cluster 3')  \n",
        "  mtp.scatter(x[y_pred == 3, 0], x[y_pred == 3, 1], s = 100, c = 'cyan', label = 'Cluster 4')  \n",
        "  mtp.scatter(x[y_pred == 4, 0], x[y_pred == 4, 1], s = 100, c = 'magenta', label = 'Cluster 5')  \n",
        "  mtp.title('clusters of '+df.columns[col1]+' and '+df.columns[col2])  \n",
        "  mtp.xlabel(df.columns[col1])  \n",
        "  mtp.ylabel(df.columns[col2])  \n",
        "  mtp.legend()  \n",
        "  mtp.show()  "
      ],
      "metadata": {
        "id": "O1AnDNoCWsSg"
      },
      "execution_count": null,
      "outputs": []
    },
    {
      "cell_type": "code",
      "source": [
        "for i in range(len(df.columns)-1):\n",
        "  for j in range(i, len(df.columns)-1):\n",
        "    clusters(i, j)\n",
        "    print(\"\\n\\n\")"
      ],
      "metadata": {
        "id": "3Yq8WX7vXuZb"
      },
      "execution_count": null,
      "outputs": []
    },
    {
      "cell_type": "markdown",
      "source": [
        "**Advantages**\n",
        "\n",
        "• Easy to implement\n",
        "\n",
        "• With a large number of variables, K-­‐Means may be computaHonally faster than\n",
        "hierarchical clustering (if K is small).\n",
        "\n",
        "• k-­‐Means may produce Hghter clusters than hierarchical clustering\n",
        "\n",
        "• An instance can change cluster (move to another cluster) when the centroids are re-­‐\n",
        "computed.\n",
        "\n",
        "**Disavantages**\n",
        "\n",
        "• Difficult to predict the number of clusters (K-­‐Value)\n",
        "\n",
        "• IniHal seeds have a strong impact on the final results\n",
        "\n",
        "• The order of the data has an impact on the final results\n",
        "\n",
        "• SensiHve to scale: rescaling your datasets (normalizaHon or standardizaHon) will\n",
        "completely change results. While this itself is not bad, not realizing that you have to\n",
        "spend extra a4en(on to scaling your data might be bad."
      ],
      "metadata": {
        "id": "pND5aNWXkEPZ"
      }
    }
  ]
}